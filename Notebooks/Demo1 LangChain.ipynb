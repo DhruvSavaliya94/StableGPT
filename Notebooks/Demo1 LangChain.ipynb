{
 "cells": [
  {
   "cell_type": "markdown",
   "id": "8617a2e2-07e1-4fac-bae1-691dd56f49ca",
   "metadata": {},
   "source": [
    "# Giving more data power to LLMs"
   ]
  },
  {
   "cell_type": "code",
   "execution_count": null,
   "id": "25d61a42-a187-461d-9939-6aecbb7471c0",
   "metadata": {},
   "outputs": [],
   "source": [
    "## Installation of libraries\n",
    "#pip install langchain\n",
    "#pip install langchain-opanai\n",
    "#pip install openai\n",
    "#pip install pypdf2\n",
    "#pip install faiss-cpu\n",
    "#pip install tiktoken"
   ]
  },
  {
   "cell_type": "code",
   "execution_count": null,
   "id": "ac687d42-783b-4680-8b82-5dab9e72cf8b",
   "metadata": {},
   "outputs": [],
   "source": [
    "#Imports\n",
    "\n",
    "from PyPDF2 import PdfReader\n",
    "from langchain_openai import OpenAIEmbeddings\n",
    "from langchain.text_splitter import CharacterTextSplitter\n",
    "from langchain_community.vectorstores import FAISS\n",
    "from langchain.chains.question_answering import load_qa_chain\n",
    "from langchain_openai import OpenAI"
   ]
  },
  {
   "cell_type": "code",
   "execution_count": null,
   "id": "151de4aa-18c3-4117-a668-9b48345690cb",
   "metadata": {},
   "outputs": [],
   "source": [
    "import os\n",
    "OPENAI_KEY = os.environ[\"OPENAI_API_KEY\"] #Key must be set according to os environments\n",
    "print(OPENAI_KEY)"
   ]
  },
  {
   "cell_type": "markdown",
   "id": "5fd0c7a0-b465-4935-b7da-23907115d640",
   "metadata": {},
   "source": [
    "## Simple LLM call with generic knowledge"
   ]
  },
  {
   "cell_type": "code",
   "execution_count": null,
   "id": "217eed12-22bb-44ea-8ae4-3c9c265e626c",
   "metadata": {},
   "outputs": [],
   "source": [
    "llm = OpenAI(model_name=\"gpt-3.5-turbo-instruct\")"
   ]
  },
  {
   "cell_type": "code",
   "execution_count": null,
   "id": "eea080b2-12b5-4a9d-9b14-a8b9dd352265",
   "metadata": {},
   "outputs": [],
   "source": [
    "our_query = \"what is the birth year of {your name}?\"\n",
    "print(llm.invoke(our_query))"
   ]
  },
  {
   "cell_type": "markdown",
   "id": "fd9703c0-0d41-411f-8ec6-81f2b84ec426",
   "metadata": {},
   "source": [
    "## LLM Call with out PDF as data reference"
   ]
  },
  {
   "cell_type": "markdown",
   "id": "83148d83-9157-40aa-b9bf-614131caf2b4",
   "metadata": {},
   "source": [
    "### Step 1: Reading pdf file"
   ]
  },
  {
   "cell_type": "code",
   "execution_count": null,
   "id": "ecc622b0-51d7-4611-bf8c-d916ae498e36",
   "metadata": {},
   "outputs": [],
   "source": [
    "data = PdfReader(r'C:\\Users\\dhruv\\OneDrive\\Documents\\data.pdf')\n",
    "# data file content text information about you."
   ]
  },
  {
   "cell_type": "code",
   "execution_count": null,
   "id": "65177feb-7056-4296-aecc-e1e0c62749f7",
   "metadata": {},
   "outputs": [],
   "source": [
    "combined_text = ''\n",
    "for i, page in enumerate(data.pages):\n",
    "    text = page.extract_text()\n",
    "    if text:\n",
    "        combined_text += text"
   ]
  },
  {
   "cell_type": "code",
   "execution_count": null,
   "id": "9a31b703-aec5-4dff-b3fc-5245876a89f9",
   "metadata": {},
   "outputs": [],
   "source": [
    "combined_text"
   ]
  },
  {
   "cell_type": "markdown",
   "id": "eebe562e-dde0-4a9d-b134-c9095f260da3",
   "metadata": {},
   "source": [
    "### Step 2: Breaking down the PDF data into smaller chunks"
   ]
  },
  {
   "cell_type": "code",
   "execution_count": null,
   "id": "89abdf57-e0a1-4e62-bf16-58ac33d0cb37",
   "metadata": {},
   "outputs": [],
   "source": [
    "text_splitter = CharacterTextSplitter(\n",
    "    separator='\\n',\n",
    "    chunk_size=200,\n",
    "    chunk_overlap=20,\n",
    "    length_function = len,\n",
    ")"
   ]
  },
  {
   "cell_type": "code",
   "execution_count": null,
   "id": "7bd62d1d-9583-4e43-a7ad-ea5a9112fc09",
   "metadata": {},
   "outputs": [],
   "source": [
    "finalData = text_splitter.split_text(combined_text)"
   ]
  },
  {
   "cell_type": "code",
   "execution_count": null,
   "id": "e7433739-353f-4256-92bc-ea8703bc657c",
   "metadata": {},
   "outputs": [],
   "source": [
    "len(finalData)"
   ]
  },
  {
   "cell_type": "markdown",
   "id": "1d49f5fc-c0b9-455d-84d9-ef98743ffe4e",
   "metadata": {},
   "source": [
    "### Step 3: Generating Text Embeddings & Storing them in Vector Store"
   ]
  },
  {
   "cell_type": "code",
   "execution_count": null,
   "id": "6c7ebfb9-f515-46ce-8501-bf4a0a1e521f",
   "metadata": {},
   "outputs": [],
   "source": [
    "embeddings = OpenAIEmbeddings()"
   ]
  },
  {
   "cell_type": "code",
   "execution_count": null,
   "id": "eee456a5-6762-467a-bc77-999e04abfdd9",
   "metadata": {},
   "outputs": [],
   "source": [
    "# Facebook AI Similarity Search (Faiss) is a library that allows developers to search for multimedia document embeddings that are similar \n",
    "# to one another.\n",
    "documentsearch = FAISS.from_texts(finalData, embeddings)"
   ]
  },
  {
   "cell_type": "markdown",
   "id": "a8fb0806-a476-4280-a3b4-1db6d94587d2",
   "metadata": {},
   "source": [
    "### Step 4: Fetching answers for the user's questions."
   ]
  },
  {
   "cell_type": "code",
   "execution_count": null,
   "id": "eae8affb-fa40-4090-9f53-9398cc9e4e97",
   "metadata": {},
   "outputs": [],
   "source": [
    "chain = load_qa_chain(OpenAI(),chain_type=\"stuff\")"
   ]
  },
  {
   "cell_type": "code",
   "execution_count": null,
   "id": "216c9a29-4003-4f20-9c48-7ce7176d7ff5",
   "metadata": {},
   "outputs": [],
   "source": [
    "our_query = \"Who is Dhruv Savaliya?\"\n",
    "docs = documentsearch.similarity_search(our_query)\n",
    "print(chain.run(input_documents=docs, question= our_query))"
   ]
  },
  {
   "cell_type": "code",
   "execution_count": null,
   "id": "f98ed08e-4984-4830-b75a-bf442a4b0309",
   "metadata": {},
   "outputs": [],
   "source": [
    "our_query = \"When did Dhruv born?\"\n",
    "docs = documentsearch.similarity_search(our_query)\n",
    "print(chain.run(input_documents=docs, question= our_query))"
   ]
  },
  {
   "cell_type": "code",
   "execution_count": null,
   "id": "56267db7-bfeb-4a43-9eb2-b246351cb890",
   "metadata": {},
   "outputs": [],
   "source": [
    "our_query = \"If today is 2024, How older Dhruv is?\"\n",
    "docs = documentsearch.similarity_search(our_query)\n",
    "print(chain.run(input_documents=docs, question= our_query))"
   ]
  },
  {
   "cell_type": "markdown",
   "id": "d0b5b6a8-85a2-41e1-a5c7-c4949327cf9a",
   "metadata": {},
   "source": [
    "# -----------------------------------------------------------------------------------------"
   ]
  }
 ],
 "metadata": {
  "kernelspec": {
   "display_name": "Python 3 (ipykernel)",
   "language": "python",
   "name": "python3"
  },
  "language_info": {
   "codemirror_mode": {
    "name": "ipython",
    "version": 3
   },
   "file_extension": ".py",
   "mimetype": "text/x-python",
   "name": "python",
   "nbconvert_exporter": "python",
   "pygments_lexer": "ipython3",
   "version": "3.12.3"
  }
 },
 "nbformat": 4,
 "nbformat_minor": 5
}
